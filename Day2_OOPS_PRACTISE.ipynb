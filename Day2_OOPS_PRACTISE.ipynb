{
 "cells": [
  {
   "cell_type": "markdown",
   "id": "22f3bdc2-9097-422b-91be-36258190b501",
   "metadata": {},
   "source": [
    "ENCAPSULATION AND ABSTRACTION"
   ]
  },
  {
   "cell_type": "code",
   "execution_count": 9,
   "id": "009ce278-36bb-48a7-bc23-1d7bb5cd982c",
   "metadata": {},
   "outputs": [
    {
     "name": "stdout",
     "output_type": "stream",
     "text": [
      "deposited 500, new balance=1500\n",
      "PIN is: 1234\n",
      "alice\n",
      "1500\n",
      "<bound method Bankaccount.show_pin of <__main__.Bankaccount object at 0x7beb703af230>>\n"
     ]
    }
   ],
   "source": [
    "class Bankaccount:\n",
    "    def __init__(self,owner,balance):\n",
    "        self.owner=owner #public attribute\n",
    "        self._balance=balance #protected attribute\n",
    "        self.__pin=\"1234\" #private attribute\n",
    "\n",
    "    def deposits(self,amount):\n",
    "        self._balance+=amount\n",
    "        print(f\"deposited {amount}, new balance={self._balance}\")\n",
    "\n",
    "    def show_pin(self):\n",
    "        print(\"PIN is:\",self.__pin)\n",
    "\n",
    "account = Bankaccount(\"alice\",1000)\n",
    "account.deposits(500)\n",
    "account.show_pin()\n",
    "\n",
    "print(account.owner)\n",
    "print(account._balance)\n",
    "#protected\n",
    "print(account.show_pin)"
   ]
  },
  {
   "cell_type": "markdown",
   "id": "108c7251-f974-4f4b-ab41-f58099492ba3",
   "metadata": {},
   "source": [
    "inheritance"
   ]
  },
  {
   "cell_type": "code",
   "execution_count": 10,
   "id": "7ce05b55-2261-4f53-8a30-af0b1b27ad1d",
   "metadata": {},
   "outputs": [
    {
     "name": "stdout",
     "output_type": "stream",
     "text": [
      "Buddy makes a sound\n",
      "child class dog\n",
      "Whiskers makes a sound\n",
      "child class cat\n"
     ]
    }
   ],
   "source": [
    "class Animal:\n",
    "    def __init__(self,name):\n",
    "        self.name=name\n",
    "\n",
    "    def speak(self):\n",
    "        print(f\"{self.name} makes a sound\")\n",
    "\n",
    "class Dog(Animal):\n",
    "    def display(self):\n",
    "        print(\"child class dog\")\n",
    "\n",
    "class Cat(Animal):\n",
    "    def display(self):\n",
    "        print(\"child class cat\")\n",
    "\n",
    "dog=Dog(\"Buddy\")\n",
    "cat=Cat(\"Whiskers\")\n",
    "\n",
    "dog.speak()\n",
    "dog.display()\n",
    "cat.speak()\n",
    "cat.display()\n",
    "\n"
   ]
  },
  {
   "cell_type": "code",
   "execution_count": 13,
   "id": "f00468b1-9bf4-43d3-81f6-3abcc0d5e469",
   "metadata": {},
   "outputs": [
    {
     "name": "stdout",
     "output_type": "stream",
     "text": [
      "person name Brad Pitt and age is 60\n",
      "list of movies are:['F1', 'GAMES']\n"
     ]
    }
   ],
   "source": [
    "class Person:\n",
    "    def __init__(self,name,age):\n",
    "        self.name=name\n",
    "        self.age=age\n",
    "\n",
    "    def display(self):\n",
    "        print(f\"person name {self.name} and age is {self.age}\")\n",
    "\n",
    "class Actor(Person):\n",
    "    def __init__(self,name,age,movie):\n",
    "        super().__init__(name,age)\n",
    "        self.movie=movie\n",
    "\n",
    "    def printmovie(self):\n",
    "        print(f\"list of movies are:{self.movie}\")\n",
    "\n",
    "actor1=Actor('Brad Pitt',60,['F1','GAMES'])\n",
    "actor1.display();\n",
    "actor1.printmovie();"
   ]
  },
  {
   "cell_type": "markdown",
   "id": "ac7c7db8-fbc3-4895-a6c3-cc94be3fe948",
   "metadata": {},
   "source": [
    "POLYMORPHISM"
   ]
  },
  {
   "cell_type": "code",
   "execution_count": null,
   "id": "ee5d8a71-4dbb-4564-baaf-cf17298db7b3",
   "metadata": {},
   "outputs": [],
   "source": []
  },
  {
   "cell_type": "code",
   "execution_count": null,
   "id": "046b0e50-4fb4-40a2-9a82-0a4f3d8c6091",
   "metadata": {},
   "outputs": [],
   "source": []
  },
  {
   "cell_type": "markdown",
   "id": "0c2ceb3b-9aed-44a3-9ef8-75e76c6a7fb8",
   "metadata": {},
   "source": [
    "ABSTRACT CLASS AND ABSTRACT METHOD"
   ]
  },
  {
   "cell_type": "code",
   "execution_count": 11,
   "id": "70f8ba2d-150a-47a1-9c23-e18eac86caf6",
   "metadata": {},
   "outputs": [
    {
     "name": "stdout",
     "output_type": "stream",
     "text": [
      "Car engine starts with a key\n",
      "Bike starts with a kick\n"
     ]
    }
   ],
   "source": [
    "from abc import ABC,abstractmethod\n",
    "\n",
    "class Vehicle(ABC):\n",
    "    @abstractmethod\n",
    "    def start(self):\n",
    "        pass\n",
    "\n",
    "class Car(Vehicle):\n",
    "    def start(self):\n",
    "        print(\"Car engine starts with a key\")\n",
    "\n",
    "class Bike(Vehicle):\n",
    "    def start(self):\n",
    "        print(\"Bike starts with a kick\")\n",
    "\n",
    "#v=Vehicle() -- cannot instantiate abstract class\n",
    "\n",
    "car=Car()\n",
    "car.start()\n",
    "\n",
    "bike=Bike()\n",
    "bike.start()\n",
    "\n"
   ]
  },
  {
   "cell_type": "code",
   "execution_count": null,
   "id": "bb0de685-ceb3-4787-91ba-f9c98bc947d6",
   "metadata": {},
   "outputs": [],
   "source": []
  },
  {
   "cell_type": "code",
   "execution_count": null,
   "id": "30d7951e-1c34-4739-bb89-43c6a81698f7",
   "metadata": {},
   "outputs": [],
   "source": []
  }
 ],
 "metadata": {
  "kernelspec": {
   "display_name": "Python 3 (ipykernel)",
   "language": "python",
   "name": "python3"
  },
  "language_info": {
   "codemirror_mode": {
    "name": "ipython",
    "version": 3
   },
   "file_extension": ".py",
   "mimetype": "text/x-python",
   "name": "python",
   "nbconvert_exporter": "python",
   "pygments_lexer": "ipython3",
   "version": "3.13.5"
  }
 },
 "nbformat": 4,
 "nbformat_minor": 5
}
