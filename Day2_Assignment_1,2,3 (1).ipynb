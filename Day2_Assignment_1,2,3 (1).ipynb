{
  "nbformat": 4,
  "nbformat_minor": 0,
  "metadata": {
    "colab": {
      "provenance": []
    },
    "kernelspec": {
      "name": "python3",
      "display_name": "Python 3"
    },
    "language_info": {
      "name": "python"
    }
  },
  "cells": [
    {
      "cell_type": "markdown",
      "source": [
        "# **ASSIGNMENT-1**"
      ],
      "metadata": {
        "id": "hxFz3_Uh4iBd"
      }
    },
    {
      "cell_type": "code",
      "execution_count": 4,
      "metadata": {
        "colab": {
          "base_uri": "https://localhost:8080/"
        },
        "id": "NQJ1cE3k3sOH",
        "outputId": "6779affb-8a4f-4502-ed6a-d7902f404b14"
      },
      "outputs": [
        {
          "output_type": "stream",
          "name": "stdout",
          "text": [
            "Account Number: ACC123\n",
            "Balance: 5000\n",
            "------\n",
            "Account Number: ACC456\n",
            "Balance: 10000\n"
          ]
        }
      ],
      "source": [
        "# Base Class\n",
        "class BankAccount:\n",
        "  def __init__(self, account_number, balance):\n",
        "    self.account_number = account_number\n",
        "    self.balance = balance\n",
        "\n",
        "  def show_details(self):\n",
        "    print(f\"Account Number: {self.account_number}\")\n",
        "    print(f\"Balance: {self.balance}\")\n",
        "\n",
        "\n",
        "# Derived Class\n",
        "class SavingsAccount(BankAccount):\n",
        "  def __init__(self, account_number, balance, interest_rate):\n",
        "    # Pass account_number & balance to parent using super()\n",
        "    super().__init__(account_number, balance)\n",
        "    self.interest_rate = interest_rate\n",
        "\n",
        "    # Override show_details to include interest_rate\n",
        "    def show_details(self):\n",
        "      super().show_details() # Call parent method\n",
        "      print(f\"Interest Rate: {self.interest_rate}%\")\n",
        "\n",
        "\n",
        "# Example usage\n",
        "s1 = SavingsAccount(\"ACC123\", 5000, 4.5)\n",
        "s2 = SavingsAccount(\"ACC456\", 10000, 6.0)\n",
        "\n",
        "s1.show_details()\n",
        "print(\"------\")\n",
        "s2.show_details()\n"
      ]
    },
    {
      "cell_type": "markdown",
      "source": [
        "## **ASSIGNMENT-2**"
      ],
      "metadata": {
        "id": "9aPNz_Pt4sxW"
      }
    },
    {
      "cell_type": "code",
      "source": [
        "# Base Class\n",
        "class Employee:\n",
        "  def __init__(self, name):\n",
        "    self.name = name\n",
        "\n",
        "  def calculate_salary(self):\n",
        "    raise NotImplementedError(\"Subclasses must implement this method\")\n",
        "\n",
        "\n",
        "# Subclass 1\n",
        "class FullTimeEmployee(Employee):\n",
        "  def __init__(self, name, monthly_salary):\n",
        "    super().__init__(name)\n",
        "    self.monthly_salary = monthly_salary\n",
        "\n",
        "  def calculate_salary(self):\n",
        "    return self.monthly_salary\n",
        "\n",
        "\n",
        "# Subclass 2\n",
        "class PartTimeEmployee(Employee):\n",
        "  def __init__(self, name, hours_worked, hourly_rate):\n",
        "    super().__init__(name)\n",
        "    self.hours_worked = hours_worked\n",
        "    self.hourly_rate = hourly_rate\n",
        "\n",
        "  def calculate_salary(self):\n",
        "    return self.hours_worked * self.hourly_rate\n",
        "\n",
        "\n",
        "  # Demonstration of Polymorphism\n",
        "employees = [\n",
        "  FullTimeEmployee(\"Alice\", 50000),\n",
        "  PartTimeEmployee(\"Bob\", 80, 500),\n",
        "  PartTimeEmployee(\"Charlie\", 120, 400),\n",
        "  ]\n",
        "\n",
        "for emp in employees:\n",
        "  print(f\"{emp.name} earns: {emp.calculate_salary()}\")"
      ],
      "metadata": {
        "colab": {
          "base_uri": "https://localhost:8080/"
        },
        "id": "wiF0MYaN4zOR",
        "outputId": "c0e62887-0cb6-43da-a02d-2001cfb215da"
      },
      "execution_count": 7,
      "outputs": [
        {
          "output_type": "stream",
          "name": "stdout",
          "text": [
            "Alice earns: 50000\n",
            "Bob earns: 40000\n",
            "Charlie earns: 48000\n"
          ]
        }
      ]
    },
    {
      "cell_type": "markdown",
      "source": [
        "# **ASSIGNMENT-3**"
      ],
      "metadata": {
        "id": "Aap6uUwo6rJg"
      }
    },
    {
      "cell_type": "code",
      "source": [
        "from abc import ABC, abstractmethod\n",
        "\n",
        "# Abstract Base Class\n",
        "class Payment(ABC):\n",
        "\n",
        "  @abstractmethod\n",
        "  def pay(self, amount):\n",
        "    pass\n",
        "\n",
        "  @abstractmethod\n",
        "  def refund(self, amount):\n",
        "    pass\n",
        "\n",
        "\n",
        "# Subclass 1\n",
        "class CreditCardPayment(Payment):\n",
        "\n",
        "  def pay(self, amount):\n",
        "    print(f\"Paid {amount} using Credit Card\")\n",
        "\n",
        "  def refund(self, amount):\n",
        "    print(f\"Refund of {amount} issued to Credit Card\")\n",
        "\n",
        "\n",
        "# Subclass 2\n",
        "class UPIPayment(Payment):\n",
        "\n",
        "  def pay(self, amount):\n",
        "    print(f\"Paid {amount} using UPI\")\n",
        "\n",
        "  def refund(self, amount):\n",
        "    print(f\"Refund of {amount} issued to UPI wallet\")\n",
        "\n",
        "\n",
        "# Demonstration\n",
        "payments = [\n",
        "CreditCardPayment(),\n",
        "UPIPayment()\n",
        "]\n",
        "\n",
        "for method in payments:\n",
        "  method.pay(1000)\n",
        "  method.refund(500)\n",
        "  print(\"------\")\n"
      ],
      "metadata": {
        "colab": {
          "base_uri": "https://localhost:8080/"
        },
        "id": "D15GS06-607q",
        "outputId": "24d4d46b-425a-4a07-a810-57d77e4bd336"
      },
      "execution_count": 8,
      "outputs": [
        {
          "output_type": "stream",
          "name": "stdout",
          "text": [
            "Paid 1000 using Credit Card\n",
            "Refund of 500 issued to Credit Card\n",
            "------\n",
            "Paid 1000 using UPI\n",
            "Refund of 500 issued to UPI wallet\n",
            "------\n"
          ]
        }
      ]
    },
    {
      "cell_type": "code",
      "source": [],
      "metadata": {
        "id": "_6cFqkex7J-q"
      },
      "execution_count": null,
      "outputs": []
    }
  ]
}